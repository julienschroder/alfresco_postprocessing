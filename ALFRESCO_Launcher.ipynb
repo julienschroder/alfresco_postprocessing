{
 "cells": [
  {
   "cell_type": "code",
   "execution_count": 1,
   "metadata": {
    "collapsed": true
   },
   "outputs": [],
   "source": [
    "from ipywidgets import interact, interactive, fixed, interact_manual, Layout, Box\n",
    "import ipywidgets as widgets\n",
    "from IPython.display import display ,Javascript\n",
    "import geopandas as gpd\n",
    "import itertools\n",
    "from datetime import datetime\n",
    "import os, glob\n",
    "%matplotlib inline\n",
    "import numpy as np\n",
    "import matplotlib.pyplot as plt\n",
    "import json\n",
    "\n",
    "def run_below(ev):\n",
    "    display(Javascript('IPython.notebook.execute_cells_below()'))\n",
    "\n",
    "def run_below2(ev):\n",
    "    display(Javascript('IPython.notebook.execute_cells_below()'))\n",
    "    \n",
    "def run_model( chunk, cores, name, output_path ):\n",
    "    import subprocess, os\n",
    "    slurm_path = os.path.join( output_path, 'Slurms' )\n",
    "    if not os.path.exists( slurm_path ):\n",
    "        os.makedirs(slurm_path)\n",
    "    os.chdir(slurm_path)\n",
    "    \n",
    "    n=0\n",
    "    for i in chunk :\n",
    "        n=n+1\n",
    "        head = '#!/bin/sh\\n' + \\\n",
    "            '#SBATCH --ntasks=%s\\n' %cores + \\\n",
    "            '#SBATCH --nodes=1\\n' + \\\n",
    "            '#SBATCH --ntasks-per-node=%s\\n'%cores + \\\n",
    "            '#SBATCH --account=snap\\n' + \\\n",
    "            '#SBATCH --mail-type=all\\n' + \\\n",
    "            '#SBATCH --mail-user=jschroder@alaska.edu\\n' + \\\n",
    "            '#SBATCH -p main\\n\\n' \\\n",
    "            'source activate ALFPP27'\n",
    "\n",
    "        slurm_fn = '{}_{}.slurm'.format(name,n)\n",
    "        with open( os.path.join( slurm_path, slurm_fn ), 'w' ) as f:\n",
    "            f.writelines( head + '\\n' )\n",
    "            f.writelines(i)\n",
    "        \n",
    "        os.system('sbatch %s'%slurm_fn)\n",
    "    return 1\n",
    "            \n",
    "def chunkify(lst,n):\n",
    "    return [ lst[i::n] for i in range(n) ]\n",
    "\n",
    "def cmd_builder(script,model,base_path,shapefile_path,field,name,output_path,hist_path,ncores,csv,hist,metrics):\n",
    "    \n",
    "    return 'python ' + script + ' -p ' + \\\n",
    "                    str(os.path.join(base_path,model)) + ' -shp ' + str(os.path.join(shp_path,shapefile_path)) + ' -field ' + str(field) + ' -name ' + \\\n",
    "                    str(name) + ' -o ' + str(output_path) + ' -hist_path ' + str(hist_path) + ' -cores ' + str(ncores) + ' -csv ' + str(csv) + ' -hist ' + str(hist) + ' -met ' + ' '.join(metrics) \n"
   ]
  },
  {
   "cell_type": "code",
   "execution_count": 2,
   "metadata": {
    "collapsed": false,
    "hideCode": false,
    "hidePrompt": false,
    "slideshow": {
     "slide_type": "-"
    }
   },
   "outputs": [],
   "source": [
    "box_layout = Layout(display='flex',\n",
    "                    flex_flow='row',\n",
    "                    align_items='stretch',\n",
    "                    border='None',\n",
    "                    width='100%')\n",
    "        \n",
    "metrics = [ 'veg_counts','avg_fire_size','number_of_fires','all_fire_sizes','total_area_burned', 'severity_counts' ]\n",
    "rcp45_models  = ['GFDL-CM3', 'GISS-E2-R', 'NCAR-CCSM4', 'IPSL-CM5A-LR','MRI-CGCM3']\n",
    "layout = Layout(flex='0 1 auto', width='auto')\n",
    "\n",
    "shp_path = '/Data/Base_Data/ALFRESCO/ALFRESCO_Master_Dataset/ALFRESCO_Model_Input_Datasets/AK_CAN_Inputs/Extents/ALF-PP_FMO-IEM-LCC_MASTER/single_subregions/'\n",
    "ls = [os.path.basename(i) for i in glob.glob(os.path.join(shp_path,'*shp'))]\n",
    "\n",
    "button = widgets.Button(description=\"Click before continuing\")\n",
    "button_run = widgets.Button(description=\"Run!\")\n",
    "cores = widgets.IntSlider(\n",
    "    value=32,\n",
    "    min=1,\n",
    "    max=32,\n",
    "    step=1,\n",
    "    description='Cores',\n",
    "    disabled=False,\n",
    "    continuous_update=False,\n",
    "    orientation='horizontal',\n",
    "    readout=True,\n",
    "    readout_format='i',\n",
    "    slider_color='white'\n",
    ")\n",
    "nodes = widgets.IntSlider(\n",
    "    value=1,\n",
    "    min=1,\n",
    "    max=10,\n",
    "    step=1,\n",
    "    description='Nodes',\n",
    "    disabled=False,\n",
    "    continuous_update=False,\n",
    "    orientation='horizontal',\n",
    "    readout=True,\n",
    "    readout_format='i',\n",
    "    slider_color='white'\n",
    ")\n",
    "years = widgets.IntRangeSlider(\n",
    "    value=[1900, 2100],\n",
    "    min=1900,\n",
    "    max=2100,\n",
    "    step=1,\n",
    "    description='Years',\n",
    "    disabled=False,\n",
    "    continuous_update=False,\n",
    "    orientation='horizontal',\n",
    "    readout=True,\n",
    "    readout_format='i',\n",
    "    slider_color='white',\n",
    "    color='black'\n",
    ")\n",
    "historical_path = widgets.Dropdown(\n",
    "    options=['/Data/Base_Data/ALFRESCO/ALFRESCO_Master_Dataset/ALFRESCO_Model_Input_Datasets/AK_CAN_Inputs/Fire','/workspace/Shared/Users/jschroder/FireHistory'],\n",
    "    value='/workspace/Shared/Users/jschroder/FireHistory',\n",
    "    description='Historical Path:',\n",
    "    disabled=False\n",
    ")\n",
    "base_path = widgets.Text(\n",
    "    value='/atlas_scratch/apbennett/Calibration/HighCalib/FMO_Calibrated',\n",
    "    description='Base path:',\n",
    "    disabled=False,\n",
    "    layout=layout\n",
    ")\n",
    "script_path = widgets.Text(\n",
    "    value='/workspace/Shared/Users/jschroder/Github/ALFRESCO/ALFRESCO/PP_launcher.py'\n",
    ",\n",
    "    description='Launcher Path:',\n",
    "    disabled=False,\n",
    "    layout=layout\n",
    ")\n",
    "csv = widgets.Checkbox(\n",
    "    value=False,\n",
    "    description=\"CSV\",\n",
    "    disabled=False\n",
    ")\n",
    "output_path = widgets.Text(\n",
    "    value=\"/atlas_scratch/jschroder/ALF_outputs/PP_{}\".format(datetime.now().strftime(\"%Y-%m-%d-%H-%M\")\n",
    "),\n",
    "    description='Output Path :',\n",
    "    disabled=False,\n",
    "    layout=layout\n",
    ")\n",
    "metrics = widgets.SelectMultiple(\n",
    "    options=metrics,\n",
    "    value=[],\n",
    "    description='Metrics',\n",
    "    disabled=False\n",
    ")\n",
    "model = widgets.SelectMultiple(\n",
    "    options=rcp45_models,\n",
    "    value=[],\n",
    "    description='RCP45',\n",
    "    disabled=False\n",
    ")\n",
    "scenario = widgets.SelectMultiple(\n",
    "    options=['rcp45','rcp60','rcp85'],\n",
    "    value=[],\n",
    "    description='Scenarios',\n",
    "    disabled=False\n",
    ")\n",
    "FMO = widgets.SelectMultiple(\n",
    "    options=['NoFMO','Normal','AltFMO','PreFMO'],\n",
    "    value=['Normal'],\n",
    "    description='FMPO',\n",
    "    disabled=False\n",
    ")\n",
    "shapefile_path = widgets.Dropdown(\n",
    "    options = ls,\n",
    "    value=ls[2],\n",
    "    description='Shapefile Path:',\n",
    "    disabled=False,\n",
    ")\n",
    "hist = widgets.Checkbox(\n",
    "    value=False,\n",
    "    description='Historical',\n",
    "    disabled=False\n",
    ")"
   ]
  },
  {
   "cell_type": "markdown",
   "metadata": {
    "hideCode": false,
    "hidePrompt": false
   },
   "source": [
    "**Set the reference folders :**"
   ]
  },
  {
   "cell_type": "code",
   "execution_count": 3,
   "metadata": {
    "collapsed": false,
    "hideCode": false,
    "hidePrompt": false
   },
   "outputs": [],
   "source": [
    "display(script_path)\n",
    "display(base_path)\n",
    "display(output_path)\n",
    "display(shapefile_path)\n",
    "display(historical_path)"
   ]
  },
  {
   "cell_type": "markdown",
   "metadata": {
    "hideCode": false,
    "hideOutput": true,
    "hidePrompt": false
   },
   "source": [
    "**Set numerical parameters :**"
   ]
  },
  {
   "cell_type": "code",
   "execution_count": 4,
   "metadata": {
    "collapsed": false,
    "hideCode": false,
    "hideOutput": true,
    "hidePrompt": false
   },
   "outputs": [],
   "source": [
    "display(nodes)\n",
    "display(cores)\n",
    "display(years)"
   ]
  },
  {
   "cell_type": "markdown",
   "metadata": {
    "hideCode": false,
    "hidePrompt": false
   },
   "source": [
    "**Metrics to be computed :**"
   ]
  },
  {
   "cell_type": "code",
   "execution_count": 5,
   "metadata": {
    "collapsed": false,
    "hideCode": false,
    "hidePrompt": false
   },
   "outputs": [],
   "source": [
    "display(metrics)"
   ]
  },
  {
   "cell_type": "markdown",
   "metadata": {
    "hideCode": false,
    "hidePrompt": false
   },
   "source": [
    "**Models, Scenarios and FMO options to be computed :**"
   ]
  },
  {
   "cell_type": "code",
   "execution_count": 6,
   "metadata": {
    "collapsed": false,
    "hideCode": false,
    "hidePrompt": false
   },
   "outputs": [],
   "source": [
    "\n",
    "box = Box(children=[model,scenario,FMO], layout=box_layout)\n",
    "display(box)\n",
    "\n"
   ]
  },
  {
   "cell_type": "markdown",
   "metadata": {
    "hideCode": false,
    "hidePrompt": false
   },
   "source": [
    "**Optional computation :**"
   ]
  },
  {
   "cell_type": "code",
   "execution_count": 7,
   "metadata": {
    "collapsed": false,
    "hideCode": false,
    "hidePrompt": false
   },
   "outputs": [],
   "source": [
    "a=itertools.product(model.value,scenario.value,FMO.value)\n",
    "l = [ \"_\".join(i) for i in a]\n",
    "display(hist)\n",
    "display(csv)\n"
   ]
  },
  {
   "cell_type": "code",
   "execution_count": 9,
   "metadata": {
    "collapsed": false,
    "hideCode": false,
    "hidePrompt": false
   },
   "outputs": [
    {
     "data": {
      "application/javascript": [
       "IPython.notebook.execute_cells_below()"
      ],
      "text/plain": [
       "<IPython.core.display.Javascript object>"
      ]
     },
     "metadata": {},
     "output_type": "display_data"
    }
   ],
   "source": [
    "\n",
    "button.on_click(run_below)\n",
    "display(button)"
   ]
  },
  {
   "cell_type": "markdown",
   "metadata": {
    "hideCode": false,
    "hidePrompt": false
   },
   "source": [
    "**Elements to be computed :**"
   ]
  },
  {
   "cell_type": "code",
   "execution_count": 10,
   "metadata": {
    "collapsed": false,
    "hideCode": false,
    "hidePrompt": false
   },
   "outputs": [
    {
     "name": "stdout",
     "output_type": "stream",
     "text": [
      "GFDL-CM3_rcp45\n",
      "GFDL-CM3_rcp60\n",
      "GFDL-CM3_rcp85\n",
      "GISS-E2-R_rcp45\n",
      "GISS-E2-R_rcp60\n",
      "GISS-E2-R_rcp85\n",
      "NCAR-CCSM4_rcp45\n",
      "NCAR-CCSM4_rcp60\n",
      "NCAR-CCSM4_rcp85\n",
      "IPSL-CM5A-LR_rcp45\n",
      "IPSL-CM5A-LR_rcp60\n",
      "IPSL-CM5A-LR_rcp85\n",
      "MRI-CGCM3_rcp45\n",
      "MRI-CGCM3_rcp60\n",
      "MRI-CGCM3_rcp85\n"
     ]
    }
   ],
   "source": [
    "a=itertools.product(model.value,scenario.value,FMO.value)\n",
    "l = [ \"_\".join(i) for i in a]\n",
    "l= [i.replace('_Normal','') for i in l if \"_Normal\" in i]\n",
    "for i in l :\n",
    "    print(i)"
   ]
  },
  {
   "cell_type": "code",
   "execution_count": 11,
   "metadata": {
    "collapsed": false,
    "hideCode": false,
    "hidePrompt": false
   },
   "outputs": [
    {
     "name": "stdout",
     "output_type": "stream",
     "text": [
      "Shapefile's attribute table :\n",
      "\n",
      "   Id          Name                                           geometry\n",
      "0  35     Tundra_AK  (POLYGON ((-259801.9188000001 816901.744300000...\n",
      "1  36     Boreal_AK  (POLYGON ((-278388.3490999993 1867157.9298, -2...\n",
      "2  37  SC_Boreal_AK  (POLYGON ((167824.6298999991 1089466.304500001...\n"
     ]
    }
   ],
   "source": [
    "if len(l)>0 :\n",
    "    shapefile = gpd.read_file(os.path.join(shp_path,shapefile_path.value))\n",
    "    print(\"Shapefile's attribute table :\\n\")\n",
    "    print(shapefile.head())\n",
    "\n",
    "#     shapefile.plot()\n",
    "#     plt.title(\"Shapefile's preview\")\n",
    "#     plt.axis('off')\n",
    "\n",
    "    \n",
    "else : print(\"ERROR : at least one model, scenarios and FMPO need to be selected\")"
   ]
  },
  {
   "cell_type": "markdown",
   "metadata": {
    "hideCode": false,
    "hidePrompt": false
   },
   "source": [
    "**What is the unique integral identifier?**"
   ]
  },
  {
   "cell_type": "code",
   "execution_count": 12,
   "metadata": {
    "collapsed": false,
    "hideCode": false,
    "hidePrompt": false
   },
   "outputs": [],
   "source": [
    "if len(l)>0 :\n",
    "    id_field = widgets.Dropdown(\n",
    "        options=list([\"None\"]) + list(shapefile.head()),\n",
    "        value=\"None\",\n",
    "        description='ID field :',\n",
    "        disabled=False)\n",
    "    \n",
    "\n",
    "    display(id_field)\n",
    "else : print(\"ERROR : at least one model, scenarios and FMPO need to be selected\")"
   ]
  },
  {
   "cell_type": "markdown",
   "metadata": {
    "hideCode": false,
    "hidePrompt": false
   },
   "source": [
    "**What field contain the domain's names?**"
   ]
  },
  {
   "cell_type": "code",
   "execution_count": 13,
   "metadata": {
    "collapsed": false,
    "hideCode": false,
    "hidePrompt": false
   },
   "outputs": [],
   "source": [
    "if len(l)>0 :\n",
    "    name = widgets.Dropdown(\n",
    "        options=list([\"None\"]) + list(shapefile.head()),\n",
    "        value=\"None\",\n",
    "        description='Name field :',\n",
    "        disabled=False)\n",
    "\n",
    "\n",
    "    display(name)\n",
    "else : print(\"ERROR : at least one model, scenarios and FMPO need to be selected\")"
   ]
  },
  {
   "cell_type": "code",
   "execution_count": 16,
   "metadata": {
    "collapsed": false,
    "hideCode": false,
    "hidePrompt": false
   },
   "outputs": [
    {
     "data": {
      "application/javascript": [
       "IPython.notebook.execute_cells_below()"
      ],
      "text/plain": [
       "<IPython.core.display.Javascript object>"
      ]
     },
     "metadata": {},
     "output_type": "display_data"
    }
   ],
   "source": [
    "button_run.on_click(run_below2)\n",
    "display(button_run)"
   ]
  },
  {
   "cell_type": "code",
   "execution_count": 17,
   "metadata": {
    "collapsed": false,
    "hideCode": false,
    "hidePrompt": false
   },
   "outputs": [],
   "source": [
    "if len(l)>0 :\n",
    "    if ((id_field.value!='None') & (name.value!='None')) :\n",
    "        suffix = output_path.value.split('/')[-1]\n",
    "        cmd =[cmd_builder(script_path.value,i,base_path.value,shapefile_path.value,id_field.value,name.value,output_path.value,historical_path.value,cores.value,csv.value,hist.value, metrics.value)+'\\n' for i in l]\n",
    "        chunk = chunkify(cmd,nodes.value)\n",
    "        run_model(chunk , cores.value , suffix, output_path.value)\n",
    "\n",
    "    else : print(\"ERROR : Please select an ID field, a name field and click Run\")"
   ]
  }
 ],
 "metadata": {
  "hide_code_all_hidden": false,
  "kernelspec": {
   "display_name": "Python 3",
   "language": "python",
   "name": "python3"
  },
  "language_info": {
   "codemirror_mode": {
    "name": "ipython",
    "version": 3
   },
   "file_extension": ".py",
   "mimetype": "text/x-python",
   "name": "python",
   "nbconvert_exporter": "python",
   "pygments_lexer": "ipython3",
   "version": "3.6.0"
  },
  "widgets": {
   "state": {
    "39a2797bb7db44c983399bfde1817c9c": {
     "views": [
      {
       "cell_index": 11
      }
     ]
    },
    "3fdb6f87c994492d9b60fb101ddb4bfb": {
     "views": [
      {
       "cell_index": 5
      }
     ]
    },
    "4f1ab6137d474daeabfc37d413b4726e": {
     "views": [
      {
       "cell_index": 20
      }
     ]
    },
    "59eade3bcc784662a77447ee4a2842b3": {
     "views": [
      {
       "cell_index": 17
      }
     ]
    },
    "5db904b2e29f4608a171d7f6e535994b": {
     "views": [
      {
       "cell_index": 11
      }
     ]
    },
    "6e803740e2234d5ab4fc2deb5b91bad1": {
     "views": [
      {
       "cell_index": 5
      }
     ]
    },
    "86fd372608ee41a8b2b1c078042359b6": {
     "views": [
      {
       "cell_index": 3
      }
     ]
    },
    "9289063f798a41a5ab86bf3a313e96a1": {
     "views": [
      {
       "cell_index": 12
      }
     ]
    },
    "aa1c3d25853e4e7f9040491a8466a007": {
     "views": [
      {
       "cell_index": 3
      }
     ]
    },
    "aedfd1d0f97847e5ad524188748e8595": {
     "views": [
      {
       "cell_index": 5
      }
     ]
    },
    "bb62299026a4447d98a0f4e4a19824c3": {
     "views": [
      {
       "cell_index": 3
      }
     ]
    },
    "d36e118a7c3f4ef5b562664fcad8c0a3": {
     "views": [
      {
       "cell_index": 7
      }
     ]
    },
    "d9c3854549264b3eab15c68f1d0127a0": {
     "views": [
      {
       "cell_index": 19
      }
     ]
    },
    "eb6331be8c7c45b088f012c43c498713": {
     "views": [
      {
       "cell_index": 3
      }
     ]
    },
    "ec3f44d5a196487aaa12dbe75e73cef1": {
     "views": [
      {
       "cell_index": 9
      }
     ]
    },
    "f2ae726219c442378b7463b062d8b587": {
     "views": [
      {
       "cell_index": 3
      }
     ]
    }
   },
   "version": "1.2.0"
  }
 },
 "nbformat": 4,
 "nbformat_minor": 2
}
